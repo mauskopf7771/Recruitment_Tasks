{
 "cells": [
  {
   "cell_type": "markdown",
   "id": "2a24f10d-bfba-4782-8d3d-cb28ad34c754",
   "metadata": {},
   "source": [
    "## Task REDACTED \n",
    "\n",
    "Analysis plan\n",
    "-\tData cleaning \n",
    "\n",
    "o\tScreen for outliers\n",
    "\n",
    "o\tInconsistencies in coding e.g. UK or United Kingdom\n",
    "\n",
    "o\tOutliers – Extreme cases \n",
    "\n",
    "o\tMultivariate outliers – who they are and why they’re problematic\n",
    "\n",
    "o\tNormality or non-normality\n",
    "\n",
    "IRs \n",
    "-\tIs there a correlation between score & sentiment_score if so can we predict? (IR COMPLETE) r(7326)0.545 p<.001.\n",
    "-   Can we predict score & sentiment_score?                                                     (IR COMPLETE)\n",
    "-\tWhere are most of these coming from? Which country? – Pie Chart                             (IR COMPLETE)\n",
    "-\tWhen were most of these interactions? - Histogram                                           (IR COMPLETE) \n",
    "-\tWhat modality are the interactions?  - Pie Chart                                            (IR COMPLETE)\n",
    "-\tHow long are these interactions open for? – open date v close date\n",
    "-\tAre there repeat interactions? – histogram for interaction ID I guess - Not interested anymore\n",
    "-\tDo a histogram of the client priority – not sure what it is but it might be which clients   (IR COMPLETE)\n",
    "-\tIs satisfaction different if they’re at different priorities? - Group by priority, DV = score\n",
    "-\tDo different regions score us differently? - Not enough time - just go globally\n",
    "-\tBreak data down by client – we can also look at their common modalities - Not enough time\n",
    "-\tDoes priority affect score and sentiment_score? - Breakdown by priority, DV == Sentiment score\n",
    "\n",
    "Analysis of comments – I am not going through all of these. So we’ll select from the following sub-samples\n",
    "-\tThose who score in the lower quartile for score – what are they saying?\n",
    "-\tThose who score in the upper quartile for score – what are they saying? \n",
    "-\tBreakdown by touchpoint – If people are going to a particular touch point – what are they saying? \n",
    "-\tBreakdown by client – what are different clients saying?\n",
    "-\tBreakdown by length – upper and lower quartiles – are there differences in what they’re saying? \n",
    "\n",
    "Points to bare in mind or decisions to make\n",
    "- Do we focus on one region?\n",
    "- Do we focuc on specific clients?\n",
    "\n",
    "Extra IR\n",
    "- Were the scores and sentient_scores worse in March when the most incidents were occurring? Is it possible that we were overwhelmed? \n"
   ]
  },
  {
   "cell_type": "code",
   "execution_count": null,
   "id": "38a76e3d-ecd0-476d-a31b-6f06b9f6eec6",
   "metadata": {},
   "outputs": [],
   "source": [
    "#Import dataset\n",
    "import numpy as np\n",
    "import pandas as pd\n",
    "import os\n",
    "import matplotlib.pyplot as plt\n",
    "from scipy import stats\n",
    "from sklearn.linear_model import LinearRegression\n",
    "import seaborn as sns\n",
    "from scipy.stats import shapiro\n",
    "from scipy.stats import spearmanr\n",
    "from sklearn.experimental import enable_iterative_imputer\n",
    "from sklearn.impute import IterativeImputer\n",
    "from scipy.stats.mstats import winsorize\n",
    "from scipy.stats import chi2\n",
    "import statsmodels.api as sm\n",
    "from scipy.stats import kstest\n",
    "from scipy.stats import wilcoxon\n",
    "import statsmodels.formula.api as smf\n",
    "from scipy.stats import levene\n",
    "import statsmodels.api as sm"
   ]
  },
  {
   "cell_type": "code",
   "execution_count": null,
   "id": "d29df8c4-06ca-4b45-aba4-9ee290f60e8f",
   "metadata": {},
   "outputs": [],
   "source": [
    "#Import data\n",
    "os.chdir('REDACTED')\n",
    "df = pd.read_excel('REDACTED')\n",
    "pd.set_option('display.max_rows', 200)\n",
    "pd.set_option('display.max_columns', 200)\n",
    "df.head()"
   ]
  },
  {
   "cell_type": "markdown",
   "id": "86cd4874-11cd-4743-81af-54f648cbc039",
   "metadata": {},
   "source": [
    "Assess missing data"
   ]
  },
  {
   "cell_type": "code",
   "execution_count": null,
   "id": "e9838511-fa90-4e32-b30d-cb23fe7391a6",
   "metadata": {},
   "outputs": [],
   "source": [
    "print(df['score'].isnull().sum())"
   ]
  },
  {
   "cell_type": "code",
   "execution_count": null,
   "id": "e4814430-42bd-4a65-9c4a-f45a2d97f938",
   "metadata": {},
   "outputs": [],
   "source": [
    "print(df['comment'].isnull().sum())"
   ]
  },
  {
   "cell_type": "code",
   "execution_count": null,
   "id": "3865b27c-7c18-498c-ad63-050263a900e3",
   "metadata": {},
   "outputs": [],
   "source": [
    "print(df['touchpoint'].isnull().sum())"
   ]
  },
  {
   "cell_type": "code",
   "execution_count": null,
   "id": "016b5dcf-3146-48fe-9066-8ffc6f8de5c4",
   "metadata": {},
   "outputs": [],
   "source": [
    "print(df['submitdate'].isnull().sum())"
   ]
  },
  {
   "cell_type": "code",
   "execution_count": null,
   "id": "36cade7f-993e-4613-8460-4c32b9c3042a",
   "metadata": {},
   "outputs": [],
   "source": [
    "print(df['interactionid'].isnull().sum())"
   ]
  },
  {
   "cell_type": "code",
   "execution_count": null,
   "id": "120c94ff-a4f3-44dd-88e8-22220a5491c2",
   "metadata": {},
   "outputs": [],
   "source": [
    "print(df['country'].isnull().sum())"
   ]
  },
  {
   "cell_type": "code",
   "execution_count": null,
   "id": "22425686-ad9f-450f-ae1a-baa86cd109b6",
   "metadata": {},
   "outputs": [],
   "source": [
    "print(df['closeddate'].isnull().sum())"
   ]
  },
  {
   "cell_type": "code",
   "execution_count": null,
   "id": "2109eaa7-3377-45f5-acc0-e257482fee07",
   "metadata": {},
   "outputs": [],
   "source": [
    "print(df['priority'].isnull().sum())"
   ]
  },
  {
   "cell_type": "code",
   "execution_count": null,
   "id": "efc0f357-10fa-49d9-bc98-d5464ad98424",
   "metadata": {},
   "outputs": [],
   "source": [
    "print(df['priority.1'].isnull().sum())"
   ]
  },
  {
   "cell_type": "markdown",
   "id": "5454d32c",
   "metadata": {},
   "source": [
    "There is a lot of missing data - looks like there is more than 10% so multiple imputation wouldn't be recommended. \n",
    "So we will just remove all missing data.\n",
    "\n",
    "If we had time, we could probably look at a means of identifying missing data e.g. looking at interaction IDs etc. \n"
   ]
  },
  {
   "cell_type": "code",
   "execution_count": null,
   "id": "cc8c4ad0-92ef-4499-b9e3-f0e0f185380b",
   "metadata": {},
   "outputs": [],
   "source": [
    "pd.set_option('display.max_rows', 10)\n",
    "df2 = df.dropna()\n",
    "display(df2)\n",
    "#df2.to_csv('nomiss.csv')"
   ]
  },
  {
   "cell_type": "markdown",
   "id": "411dc54b",
   "metadata": {},
   "source": [
    "## Initial Data Visualisations"
   ]
  },
  {
   "cell_type": "code",
   "execution_count": null,
   "id": "ebf0143d-cde8-431a-af84-346655c158ff",
   "metadata": {},
   "outputs": [],
   "source": [
    "plt.hist(df2[['score']])"
   ]
  },
  {
   "cell_type": "code",
   "execution_count": null,
   "id": "0b13d4f2",
   "metadata": {},
   "outputs": [],
   "source": [
    "plt.hist(df2['sentiment_score'])"
   ]
  },
  {
   "cell_type": "code",
   "execution_count": null,
   "id": "0d765470",
   "metadata": {},
   "outputs": [],
   "source": [
    "plt.hist(df2['submitdate'])"
   ]
  },
  {
   "cell_type": "code",
   "execution_count": null,
   "id": "3a0e0b94",
   "metadata": {},
   "outputs": [],
   "source": [
    "plt.hist(df2['closeddate'])"
   ]
  },
  {
   "cell_type": "code",
   "execution_count": null,
   "id": "6ecc3cc4",
   "metadata": {},
   "outputs": [],
   "source": [
    "plt.hist(df2['created'])"
   ]
  },
  {
   "cell_type": "markdown",
   "id": "888e4494",
   "metadata": {},
   "source": [
    "## Data breakdown tables"
   ]
  },
  {
   "cell_type": "markdown",
   "id": "d88c4350",
   "metadata": {},
   "source": [
    "Breakdown by Country"
   ]
  },
  {
   "cell_type": "code",
   "execution_count": null,
   "id": "81fc8587-54e2-4375-9ada-bb281cc1f08d",
   "metadata": {},
   "outputs": [],
   "source": [
    "df2.groupby(['country']).count()"
   ]
  },
  {
   "cell_type": "markdown",
   "id": "ddeb7472",
   "metadata": {},
   "source": [
    "Breakdown by touchpoint"
   ]
  },
  {
   "cell_type": "code",
   "execution_count": null,
   "id": "7cac0781-9173-4eeb-bf86-342b9b2c8693",
   "metadata": {},
   "outputs": [],
   "source": [
    "df2.groupby(['touchpoint']).count()"
   ]
  },
  {
   "cell_type": "markdown",
   "id": "feb1177b",
   "metadata": {},
   "source": [
    "Breakdown by Priority"
   ]
  },
  {
   "cell_type": "code",
   "execution_count": null,
   "id": "244bad78-0d31-4374-95e0-2915103260ad",
   "metadata": {},
   "outputs": [],
   "source": [
    "df2.groupby(['priority']).count()"
   ]
  },
  {
   "cell_type": "markdown",
   "id": "a52bec3f",
   "metadata": {},
   "source": [
    "Breakdown by Client"
   ]
  },
  {
   "cell_type": "code",
   "execution_count": null,
   "id": "0ff7b740-526b-4b71-8045-73a7dc304b6c",
   "metadata": {},
   "outputs": [],
   "source": [
    "df2.groupby(['priority.1']).count()"
   ]
  },
  {
   "cell_type": "code",
   "execution_count": null,
   "id": "734621a5-fb9f-444f-874e-71e830ae7b31",
   "metadata": {},
   "outputs": [],
   "source": [
    "# Correlation between score and sentiment score \n",
    "# Using Spearman's Rho\n",
    "spearmancorr1 = spearmanr(df2[['score', 'sentiment_score']], axis = 0)\n",
    "display(spearmancorr1)\n",
    "plt.scatter(df2['score'], df2['sentiment_score'])"
   ]
  },
  {
   "cell_type": "code",
   "execution_count": null,
   "id": "fc841106",
   "metadata": {},
   "outputs": [],
   "source": [
    "#Prediction of sentiment score based on score\n",
    "reg1 = smf.ols('sentiment_score~score', data=df2).fit()\n",
    "display(reg1.summary())\n",
    "fig_reg1 = plt.figure(figsize=(20,20))\n",
    "fig_reg1 = sm.graphics.plot_regress_exog(reg1, 'score', fig = fig_reg1)\n",
    "#adj R2 = .415, F(7325, 1)=5197, p<.001, coef DV = 1.779, score = 0.2505 so if they scored 10 DV would be about 5. "
   ]
  },
  {
   "cell_type": "markdown",
   "id": "7263f651",
   "metadata": {},
   "source": [
    "The regression shows a pretty decent model. I've put that in the notes. "
   ]
  },
  {
   "cell_type": "markdown",
   "id": "5a910603",
   "metadata": {},
   "source": [
    "## Break the data down by date to compare scores and sentiment scores between two time periods"
   ]
  },
  {
   "cell_type": "code",
   "execution_count": null,
   "id": "e2e828ea",
   "metadata": {},
   "outputs": [],
   "source": [
    "# Extract data if the column meets the first few characters. \n",
    "# We need to convert these datetime stamps into just dates for this\n",
    "df3 = df2\n",
    "types = df3.dtypes\n",
    "print(types)\n",
    "df3.head()"
   ]
  },
  {
   "cell_type": "code",
   "execution_count": null,
   "id": "90973224-420a-48c8-ab33-a41e1c5f4360",
   "metadata": {},
   "outputs": [],
   "source": [
    "df3['Created_str'] = df3['created'].dt.strftime('%Y-%m-%d')"
   ]
  },
  {
   "cell_type": "code",
   "execution_count": null,
   "id": "736503b6-9bff-4137-a2a8-c4b6a4a19e68",
   "metadata": {},
   "outputs": [],
   "source": [
    "display(df3)\n",
    "df3.dtypes"
   ]
  },
  {
   "cell_type": "code",
   "execution_count": null,
   "id": "ccda7910",
   "metadata": {},
   "outputs": [],
   "source": [
    "plt.hist(df3['Created_str'])\n",
    "df4 = df3\n",
    "df4.mar16 = df4.Created_str.astype(str).str.contains('2016-03')\n",
    "#df_march16 = df3['created'].astype(str).startswith('2016-03')\n",
    "df4['mar16'] = df4.mar16\n",
    "display(df4)"
   ]
  },
  {
   "cell_type": "code",
   "execution_count": null,
   "id": "07e9d2dd-5c9c-4757-abda-cde7e2ce3d91",
   "metadata": {},
   "outputs": [],
   "source": [
    "display(df4)"
   ]
  },
  {
   "cell_type": "code",
   "execution_count": null,
   "id": "3ad30534",
   "metadata": {},
   "outputs": [],
   "source": [
    "df_Mar16 = df4[(df4['mar16'] == True)]\n",
    "#display(df_Mar16)"
   ]
  },
  {
   "cell_type": "code",
   "execution_count": null,
   "id": "5f76cae8-f8c5-4ce3-9316-2fea913584b8",
   "metadata": {},
   "outputs": [],
   "source": [
    "df_Mar16_ss1 = df_Mar16[(df_Mar16['sentiment_score'] == 1)]\n",
    "#display(df_Mar16_ss1);\n",
    "df_Mar16_ss1.to_csv('df_Mar16_ss1.csv')"
   ]
  },
  {
   "cell_type": "code",
   "execution_count": null,
   "id": "b485cad9-5867-4d71-b493-c2475039b536",
   "metadata": {},
   "outputs": [],
   "source": [
    "display(df_Mar16_ss1)\n",
    "#df_Mar16_ss1.groupby(['priority']).count()"
   ]
  },
  {
   "cell_type": "code",
   "execution_count": null,
   "id": "f82acf4d-15da-49f1-ba9f-2575e2272008",
   "metadata": {},
   "outputs": [],
   "source": [
    "df_Mar16_ss10 = df_Mar16[(df_Mar16['sentiment_score'] == 5)]\n",
    "#display(df_Mar16_ss10);\n",
    "df_Mar16_ss10.groupby(['priority']).count()\n",
    "df_Mar16_ss10.to_csv('df_Mar16_ss10.csv')"
   ]
  },
  {
   "cell_type": "code",
   "execution_count": null,
   "id": "edbdc5b6-caf4-4532-948d-2274a4533494",
   "metadata": {},
   "outputs": [],
   "source": [
    "df_Mar16_ss1.to_csv('df_Mar16_ss1.csv')"
   ]
  },
  {
   "cell_type": "code",
   "execution_count": null,
   "id": "db5b64b5-edb0-4e0a-921b-4eaa4e6709d7",
   "metadata": {},
   "outputs": [],
   "source": [
    "os.getcwd()"
   ]
  },
  {
   "cell_type": "code",
   "execution_count": null,
   "id": "8fd69f38-f768-4696-b992-4cecc439a742",
   "metadata": {},
   "outputs": [],
   "source": []
  },
  {
   "cell_type": "markdown",
   "id": "b58d2415-c67d-4f95-8b91-188d6b155a79",
   "metadata": {},
   "source": [
    "## Breakdown for November 2016"
   ]
  },
  {
   "cell_type": "code",
   "execution_count": null,
   "id": "c1507695-6110-4cbe-8489-dd0a1b4f253b",
   "metadata": {},
   "outputs": [],
   "source": [
    "#plt.hist(df3['Created_str'])\n",
    "df4.nov16 = df4.Created_str.astype(str).str.contains('2016-11')\n",
    "#df_march16 = df3['created'].astype(str).startswith('2016-03')\n",
    "df4['Nov16'] = df4.nov16\n",
    "#display(df4)"
   ]
  },
  {
   "cell_type": "code",
   "execution_count": null,
   "id": "8e28e0a1-849b-49c6-9a60-771bfd026556",
   "metadata": {},
   "outputs": [],
   "source": [
    "df_Nov16 = df4[(df4['Nov16'] == True)]\n",
    "#display(df_Mar16)"
   ]
  },
  {
   "cell_type": "code",
   "execution_count": null,
   "id": "b154aa82-ac18-4464-ada7-9a0da2923afb",
   "metadata": {},
   "outputs": [],
   "source": [
    "df_Nov16_ss1 = df_Nov16[(df_Nov16['sentiment_score'] == 1)]\n",
    "display(df_Nov16_ss1)\n",
    "df_Nov16_ss1.to_csv('df_Nov16_ss1.csv')"
   ]
  },
  {
   "cell_type": "code",
   "execution_count": null,
   "id": "d3831b58-1fd3-4d4d-a08e-05f7c56665a7",
   "metadata": {},
   "outputs": [],
   "source": [
    "df_Nov16_ss10 = df_Nov16[(df_Nov16['sentiment_score'] == 5)]\n",
    "#display(df_Nov16_ss10)\n",
    "df_Nov16_ss10.to_csv('df_Nov16_ss10.csv')"
   ]
  },
  {
   "cell_type": "code",
   "execution_count": null,
   "id": "47399918-fbf8-4477-bfd2-b665b8b15ed7",
   "metadata": {},
   "outputs": [],
   "source": [
    "df_for_themes_bad = df_Nov16[(df_Nov16['sentiment_score'] == 1)]\n",
    "df_for_themes_bad_priority_high = df_for_themes_bad[(df_for_themes_bad['priority'] == 'High')]\n",
    "#display(df_for_themes_bad_priority_high)"
   ]
  },
  {
   "cell_type": "code",
   "execution_count": null,
   "id": "a7ac861a-85aa-4b19-bff1-9e54162dea19",
   "metadata": {},
   "outputs": [],
   "source": [
    "df_ss5 = df2[(df2['sentiment_score'] == 5)]\n",
    "df_PH_ss5 = df_ss5[(df_ss5['priority'] == 'High')]\n",
    "display(df_PH_ss5)\n",
    "df_PH_ss5.to_csv('df_PH_ss5.csv')"
   ]
  },
  {
   "cell_type": "code",
   "execution_count": null,
   "id": "9d4acdae-5af0-4ce7-bce9-b70008d337b2",
   "metadata": {},
   "outputs": [],
   "source": [
    "df_PC_ss5 = df_ss5[(df_ss5['priority'] == 'Critical')]\n",
    "display(df_PC_ss5)\n",
    "df_PC_ss5.to_csv('df_PC_ss5.csv')"
   ]
  },
  {
   "cell_type": "code",
   "execution_count": null,
   "id": "63050b78-b9c1-41c9-9f1b-2e8aefeb92e2",
   "metadata": {},
   "outputs": [],
   "source": [
    "df_ss1 = df2[(df2['sentiment_score'] == 1)]\n",
    "df_PH_ss1 = df_ss1[(df_ss1['priority'] == 'High')]\n",
    "display(df_PH_ss1)\n",
    "df_PH_ss1.to_csv('df_PH_ss1.csv')"
   ]
  },
  {
   "cell_type": "code",
   "execution_count": null,
   "id": "7fae6957-6611-4d00-8453-d7a70c307f43",
   "metadata": {},
   "outputs": [],
   "source": [
    "df_PC_ss1 = df_ss1[(df_ss1['priority'] == 'Critical')]\n",
    "display(df_PC_ss1)\n",
    "df_PC_ss1.to_csv('df_PC_ss1.csv')"
   ]
  },
  {
   "cell_type": "code",
   "execution_count": null,
   "id": "2f9042a1-51d2-404f-9dcd-e258cdba687a",
   "metadata": {},
   "outputs": [],
   "source": [
    "df3 = df2[df2['created'].str.contains('2016-03')]\n",
    "display(df3)\n"
   ]
  },
  {
   "cell_type": "code",
   "execution_count": null,
   "id": "9ce7b9ac",
   "metadata": {},
   "outputs": [],
   "source": [
    "df2['created'].loc['2016-03']"
   ]
  },
  {
   "cell_type": "code",
   "execution_count": null,
   "id": "b81c7719-5b9a-407b-8835-a54e9c774438",
   "metadata": {},
   "outputs": [],
   "source": [
    "df4.groupby(df4['priority']).count()"
   ]
  },
  {
   "cell_type": "markdown",
   "id": "607fbc2a-1194-482e-8876-8ea7e05f461d",
   "metadata": {},
   "source": [
    "## t-test for analysis of score based on sentiment_scores and Mar16 and Nov16"
   ]
  },
  {
   "cell_type": "code",
   "execution_count": null,
   "id": "8ebb2f89-dba9-42dc-97ef-7a40fd1e7ad2",
   "metadata": {},
   "outputs": [],
   "source": [
    "#Figure it out en route home\n",
    "group1 = df_Mar16['sentiment_score']\n",
    "group2 = df_Nov16['sentiment_score']\n",
    "from scipy.stats import ttest_ind\n",
    "#perform independent two sample t-test\n",
    "ttest_ind(group1, group2, equal_var = False)\n",
    "#t(197)=-3.28, p<.001 - significant difference. \n",
    "#This is completely irrelevant because it's not priority, it's supposed to be the two time points."
   ]
  },
  {
   "cell_type": "code",
   "execution_count": null,
   "id": "6b7452bf-045e-4def-965a-ce2ab08482d1",
   "metadata": {},
   "outputs": [],
   "source": [
    "len(group1)"
   ]
  },
  {
   "cell_type": "code",
   "execution_count": null,
   "id": "3a52131c-2e91-4f6c-af56-29d2aa720368",
   "metadata": {},
   "outputs": [],
   "source": [
    "len(group2)"
   ]
  },
  {
   "cell_type": "code",
   "execution_count": null,
   "id": "ba808252-87cc-42c1-b357-b4134f0d3743",
   "metadata": {},
   "outputs": [],
   "source": [
    "(len(group1) + len(group2))"
   ]
  },
  {
   "cell_type": "code",
   "execution_count": null,
   "id": "316adcc0-3930-4d8a-a0db-8937ce629385",
   "metadata": {},
   "outputs": [],
   "source": [
    "np.mean(group1)"
   ]
  },
  {
   "cell_type": "code",
   "execution_count": null,
   "id": "904392b8-891d-46cc-994b-b5616a7b6104",
   "metadata": {},
   "outputs": [],
   "source": [
    "np.mean(group2)"
   ]
  },
  {
   "cell_type": "code",
   "execution_count": null,
   "id": "0bb11b7b-3ad0-4db0-b9ff-fb28c0271039",
   "metadata": {},
   "outputs": [],
   "source": [
    "#Plot graphs\n",
    "plt.rc('font', size=15)\n",
    "#pl = 7.81\n",
    "#pm = 7.97\n",
    "#ph = 7.1\n",
    "#pc = 8.3\n",
    "\n",
    "priority = [3.75, 3.69]\n",
    "#Day3 = [-0.26, 28.25, 3.37, 5.25, 30.87, 13.62]\n",
    "\n",
    "x = ['March 2016', 'November 2016']\n",
    "#lgnd = ['Day 1', 'Day 3']\n",
    "f = plt.figure()\n",
    "f.set_figwidth(8)\n",
    "f.set_figheight(8)\n",
    "\n",
    "width =0.3\n",
    "plt.bar(x, priority, width=width)\n",
    "#plt.bar(np.arange(len(Day3)) + width, Day3, width=width)\n",
    "#plt.legend(lgnd,loc=1)\n",
    "plt.title('Mean Sentiment Scores between \\n March 2016 and November 2016', weight='bold')\n",
    "plt.xlabel('Timepoint')\n",
    "plt.ylabel('Sentiment Score')\n",
    "plt.show() "
   ]
  },
  {
   "cell_type": "markdown",
   "id": "f66ebe30-a924-4b27-9ed3-85262ce59a0c",
   "metadata": {},
   "source": [
    "## Extraction of Data between high and critical priority and ss scores of 1 and 10"
   ]
  },
  {
   "cell_type": "code",
   "execution_count": null,
   "id": "f10565a8-4d33-488c-a98d-798a7cf8244b",
   "metadata": {},
   "outputs": [],
   "source": [
    "#display(df2)\n",
    "import statsmodels.api as sm\n",
    "from statsmodels.formula.api import ols\n",
    "cw_lm = ols('score ~ C(priority)', data=df2).fit()\n",
    "print(sm.stats.anova_lm(cw_lm, typ=2))"
   ]
  },
  {
   "cell_type": "code",
   "execution_count": null,
   "id": "5beb7c9e-099c-45d0-80e3-3847b8b979ac",
   "metadata": {},
   "outputs": [],
   "source": [
    "df_priority_low = df2[(df2['priority'] == 'Low')]\n",
    "df_priority_med = df2[(df2['priority'] == 'Medium')]\n",
    "df_priority_high = df2[(df2['priority'] == 'High')]\n",
    "df_priority_critical = df2[(df2['priority'] == 'Critical')]"
   ]
  },
  {
   "cell_type": "code",
   "execution_count": null,
   "id": "bfe99578-0f05-4343-a38c-6fb07de1bb1c",
   "metadata": {},
   "outputs": [],
   "source": [
    "df_priority_low_l = np.mean(df_priority_low.score)"
   ]
  },
  {
   "cell_type": "code",
   "execution_count": null,
   "id": "9dfa023f-94cc-4c1c-ab64-d802a8171f3c",
   "metadata": {},
   "outputs": [],
   "source": [
    "df_priority_low_m = np.mean(df_priority_med.score)"
   ]
  },
  {
   "cell_type": "code",
   "execution_count": null,
   "id": "81005966-fbba-435f-87f1-bc38f6410ab8",
   "metadata": {},
   "outputs": [],
   "source": [
    "df_priroity_high_m = np.mean(df_priority_high.score)"
   ]
  },
  {
   "cell_type": "code",
   "execution_count": null,
   "id": "59743b25-af89-45d9-9c25-3a2abd8b7597",
   "metadata": {},
   "outputs": [],
   "source": [
    "df_priority_critical_m = np.mean(df_priority_critical.score)\n",
    "print(df_priority_critical_m)"
   ]
  },
  {
   "cell_type": "code",
   "execution_count": null,
   "id": "80452852-4be1-4b3f-a968-111892b8b6c6",
   "metadata": {},
   "outputs": [],
   "source": [
    "#Plot graphs\n",
    "plt.rc('font', size=15)\n",
    "pl = 7.81\n",
    "pm = 7.97\n",
    "ph = 7.1\n",
    "pc = 8.3\n",
    "\n",
    "priority = [7.81, 7.97, 7.1, 8.3]\n",
    "#Day3 = [-0.26, 28.25, 3.37, 5.25, 30.87, 13.62]\n",
    "\n",
    "x = ['Low Priority', 'Medium Priority', 'High Priority', 'Critical Priority']\n",
    "#lgnd = ['Day 1', 'Day 3']\n",
    "f = plt.figure()\n",
    "f.set_figwidth(8)\n",
    "f.set_figheight(8)\n",
    "\n",
    "width =0.3\n",
    "plt.bar(x, priority, width=width)\n",
    "#plt.bar(np.arange(len(Day3)) + width, Day3, width=width)\n",
    "#plt.legend(lgnd,loc=1)\n",
    "plt.title('Mean Scores Across Levels of Priority', weight='bold')\n",
    "plt.xlabel('Priorty')\n",
    "plt.ylabel('score')\n",
    "plt.show() "
   ]
  },
  {
   "cell_type": "markdown",
   "id": "67358323-6c7c-4fb6-ac01-a89d486421f5",
   "metadata": {},
   "source": [
    "## Do the same but for Sentiment Score"
   ]
  },
  {
   "cell_type": "code",
   "execution_count": null,
   "id": "b7339ebb-7d24-415c-a5aa-5acc980bb101",
   "metadata": {},
   "outputs": [],
   "source": [
    "cw_lm2 = ols('sentiment_score ~ C(priority)', data=df2).fit()\n",
    "print(sm.stats.anova_lm(cw_lm2, typ=2))"
   ]
  },
  {
   "cell_type": "code",
   "execution_count": null,
   "id": "e3239eb6-259a-4758-8b4d-9b13017828b7",
   "metadata": {},
   "outputs": [],
   "source": [
    "df_priority_low_sc = np.mean(df_priority_low.sentiment_score)\n",
    "df_priority_med_sc = np.mean(df_priority_med.sentiment_score)\n",
    "df_priority_high_sc = np.mean(df_priority_high.sentiment_score)\n",
    "df_priority_crit_sc = np.mean(df_priority_critical.sentiment_score)\n",
    "print(df_priority_low_sc)"
   ]
  },
  {
   "cell_type": "code",
   "execution_count": null,
   "id": "4cf75fd5-10b1-43d2-9a8e-c24785a18a37",
   "metadata": {},
   "outputs": [],
   "source": [
    "print(df_priority_med_sc)"
   ]
  },
  {
   "cell_type": "code",
   "execution_count": null,
   "id": "45b33afd-95e2-4449-9646-dbc3cf26f4d9",
   "metadata": {},
   "outputs": [],
   "source": [
    "print(df_priority_high_sc)"
   ]
  },
  {
   "cell_type": "code",
   "execution_count": null,
   "id": "45745acc-7ed4-4365-b581-585b805f68eb",
   "metadata": {},
   "outputs": [],
   "source": [
    "print(df_priority_crit_sc)"
   ]
  },
  {
   "cell_type": "code",
   "execution_count": null,
   "id": "b96b2fd1-d181-4ae6-802c-cf7c10fa1f73",
   "metadata": {},
   "outputs": [],
   "source": [
    "plt.rc('font', size=15)\n",
    "#pl = 7.81\n",
    "#pm = 7.97\n",
    "#ph = 7.1\n",
    "#pc = 8.3\n",
    "\n",
    "priority = [3.75, 3.77, 3.43, 3.96]\n",
    "\n",
    "x = ['Low Priority', 'Medium Priority', 'High Priority', 'Critical Priority']\n",
    "f = plt.figure()\n",
    "f.set_figwidth(8)\n",
    "f.set_figheight(8)\n",
    "\n",
    "width =0.3\n",
    "plt.bar(x, priority, width=width)\n",
    "plt.title('Mean Sentiment Scores Across Levels of Priority', weight='bold')\n",
    "plt.xlabel('Priorty')\n",
    "plt.ylabel('score')\n",
    "plt.show() "
   ]
  },
  {
   "cell_type": "markdown",
   "id": "b8b8f10d-49b0-4d5a-ac6a-cfd79f90fa6f",
   "metadata": {},
   "source": [
    "For the qualitative side of things; this might be useful \n",
    "\n",
    "https://towardsdatascience.com/a-beginners-guide-to-sentiment-analysis-in-python-95e354ea84f6\n",
    "\n",
    "https://medium.com/towards-data-science/sentimental-analysis-using-vader-a3415fef7664"
   ]
  },
  {
   "cell_type": "code",
   "execution_count": null,
   "id": "31a7ddaa-a04e-481b-a6bb-711dea2c726e",
   "metadata": {},
   "outputs": [],
   "source": []
  }
 ],
 "metadata": {
  "kernelspec": {
   "display_name": "Python 3 (ipykernel)",
   "language": "python",
   "name": "python3"
  },
  "language_info": {
   "codemirror_mode": {
    "name": "ipython",
    "version": 3
   },
   "file_extension": ".py",
   "mimetype": "text/x-python",
   "name": "python",
   "nbconvert_exporter": "python",
   "pygments_lexer": "ipython3",
   "version": "3.9.7"
  }
 },
 "nbformat": 4,
 "nbformat_minor": 5
}
